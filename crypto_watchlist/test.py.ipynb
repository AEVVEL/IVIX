{
 "cells": [
  {
   "cell_type": "code",
   "execution_count": null,
   "id": "initial_id",
   "metadata": {
    "collapsed": true
   },
   "outputs": [],
   "source": ""
  },
  {
   "metadata": {
    "ExecuteTime": {
     "end_time": "2025-04-25T17:43:20.087517Z",
     "start_time": "2025-04-25T17:43:18.759539Z"
    }
   },
   "cell_type": "code",
   "source": [
    "from selenium import webdriver\n",
    "from selenium.webdriver.chrome.service import Service\n",
    "from selenium.webdriver.common.by import By\n",
    "from webdriver_manager.chrome import ChromeDriverManager\n",
    "from selenium.webdriver.support.wait import WebDriverWait\n",
    "from schemas import Coin\n",
    "\n",
    "options = webdriver.ChromeOptions()\n",
    "options.add_argument(\"--headless\")\n",
    "options.add_argument(\"--no-sandbox\")\n",
    "options.add_argument(\"--disable-dev-shm-usage\")\n",
    "\n",
    "service = Service(ChromeDriverManager().install())\n",
    "driver = webdriver.Chrome(service=service, options=options)\n",
    "driver.implicitly_wait(5)"
   ],
   "id": "e173c6054dfe00d6",
   "outputs": [],
   "execution_count": 2
  },
  {
   "metadata": {
    "ExecuteTime": {
     "end_time": "2025-04-25T17:43:21.981287Z",
     "start_time": "2025-04-25T17:43:20.802342Z"
    }
   },
   "cell_type": "code",
   "source": [
    "target_url = f\"https://coinmarketcap.com/?page={1}\"\n",
    "driver.get(target_url)"
   ],
   "id": "11db8a4cdb31ed68",
   "outputs": [],
   "execution_count": 3
  },
  {
   "metadata": {
    "ExecuteTime": {
     "end_time": "2025-04-25T17:59:24.405445Z",
     "start_time": "2025-04-25T17:59:24.311795Z"
    }
   },
   "cell_type": "code",
   "source": [
    "is_bull = lambda x: x.get_attribute(\"class\") == \"icon-Caret-up\"\n",
    "i = 28\n",
    "coins = driver.find_elements(By.XPATH,\"//tbody/tr\")\n",
    "driver.execute_script(\"arguments[0].scrollIntoView({block: 'center'});\", coins[i])\n",
    "WebDriverWait(driver, 5).until(lambda d: d.execute_script('return document.readyState') == 'complete')\n",
    "coins = driver.find_elements(By.XPATH,\"//tbody/tr\")\n",
    "\n",
    "def from_subscript_format(display_str, subscript):\n",
    "    parts = display_str.split('.')\n",
    "    value_part = parts[1][2:]\n",
    "    zeros = '0' * subscript\n",
    "    return f\"0.{zeros}{value_part}\"\n",
    "\n",
    "    return display_str\n",
    "\n",
    "name=coins[i].find_element(By.XPATH,\".//p[@class='sc-65e7f566-0 iPbTJf coin-item-name']\").text,\n",
    "price_dom = coins[i].find_elements(By.XPATH, \".//div[contains(@class, 'sc-142c02c-0 lmjbLF')]//*\")\n",
    "if len(price_dom) > 1:\n",
    "   base_price = coins[i].find_element(By.XPATH, \".//div[contains(@class, 'sc-142c02c-0 lmjbLF')]\").text\n",
    "   subscript = coins[i].find_element(By.XPATH, \".//div[contains(@class, 'sc-142c02c-0 lmjbLF')]//sub\").text\n",
    "   price = from_subscript_format(base_price, int(subscript))\n",
    "else:\n",
    "     price = coins[i].find_element(By.XPATH, \".//div[contains(@class, 'sc-142c02c-0 lmjbLF')]\").text\n",
    "\n",
    "print(name, price)\n"
   ],
   "id": "464c72a8fe287aa5",
   "outputs": [
    {
     "name": "stdout",
     "output_type": "stream",
     "text": [
      "('Pepe',) 0.000008698\n"
     ]
    }
   ],
   "execution_count": 57
  }
 ],
 "metadata": {
  "kernelspec": {
   "display_name": "Python 3",
   "language": "python",
   "name": "python3"
  },
  "language_info": {
   "codemirror_mode": {
    "name": "ipython",
    "version": 2
   },
   "file_extension": ".py",
   "mimetype": "text/x-python",
   "name": "python",
   "nbconvert_exporter": "python",
   "pygments_lexer": "ipython2",
   "version": "2.7.6"
  }
 },
 "nbformat": 4,
 "nbformat_minor": 5
}
